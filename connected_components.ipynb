{
  "nbformat": 4,
  "nbformat_minor": 0,
  "metadata": {
    "colab": {
      "name": "connected components.ipynb",
      "provenance": [],
      "collapsed_sections": []
    },
    "kernelspec": {
      "name": "python3",
      "display_name": "Python 3"
    }
  },
  "cells": [
    {
      "cell_type": "code",
      "metadata": {
        "id": "BgY52w2UuWA1"
      },
      "source": [
        "import numpy as np\n",
        "from google.colab.patches import cv2_imshow\n",
        "import cv2"
      ],
      "execution_count": null,
      "outputs": []
    },
    {
      "cell_type": "code",
      "metadata": {
        "id": "uu0pyYZGVsxA"
      },
      "source": [
        "def get_connected_components(image):\n",
        "  ret, thresh = cv2.threshold(image,0,255,cv2.THRESH_BINARY+cv2.THRESH_OTSU)\n",
        "  connectivity = 4  \n",
        "  return cv2.connectedComponentsWithStats(thresh, connectivity, cv2.CV_32S)"
      ],
      "execution_count": null,
      "outputs": []
    },
    {
      "cell_type": "code",
      "metadata": {
        "id": "iqm236eaWr4Z"
      },
      "source": [
        "def split_components(image):\n",
        "  count = 0\n",
        "  image_out = image\n",
        "  while  not (np.all((image == 0))):\n",
        "    kernel = cv2.getStructuringElement(cv2.MORPH_ELLIPSE,(2,2))\n",
        "    image = cv2.erode(image,kernel,iterations = 1)\n",
        "    # cv2_imshow(erosion)\n",
        "    output = get_connected_components(image)\n",
        "    # print(output[0])\n",
        "    if count < output[0]:\n",
        "      count = output[0]\n",
        "      image_out = image\n",
        "  return count, image_out"
      ],
      "execution_count": null,
      "outputs": []
    },
    {
      "cell_type": "code",
      "metadata": {
        "id": "VpbEi9XKhBZX"
      },
      "source": [
        "def thresh_hold_area(area_max, area_min, image):\n",
        "  output = get_connected_components(image)\n",
        "  img_bgr = cv2.cvtColor(image, cv2.COLOR_GRAY2BGR)\n",
        "  stats = output[2]\n",
        "  labels = output[1]\n",
        "  for i in range(len(stats)):\n",
        "    if stats[i, 4] < area_max or stats[i, 4] > area_min:\n",
        "      img_bgr[labels==i]=0\n",
        "      # aaaaaa[filtered_labels==i]=0\n",
        "  return img_bgr[:,:,0]"
      ],
      "execution_count": null,
      "outputs": []
    },
    {
      "cell_type": "code",
      "metadata": {
        "id": "OFmfupcrU_m3"
      },
      "source": [
        "def is_circle(image, threshold):\n",
        "  (h, w) = image.shape[:2]\n",
        "  (cX, cY) = (w // 2, h // 2)\n",
        "  M = cv2.getRotationMatrix2D((cX, cY), 45, 1.0)\n",
        "  rotated = cv2.warpAffine(image, M, (w, h))\n",
        "  # cv2_imshow(rotated)\n",
        "  thresh = 127\n",
        "  rotated_binary = cv2.threshold(rotated, thresh, 255, cv2.THRESH_BINARY)[1]\n",
        "  # rotated_binary\n",
        "  c1 = get_connected_components( image)\n",
        "  c2 = get_connected_components(rotated_binary)\n",
        "  res = c2[2][1,4]/(c2[2][1,2] * c2[2][1,3]) - c1[2][1,4]/(c1[2][1,2] * c1[2][1,3])\n",
        "  if res<0:\n",
        "    res *= -1\n",
        "  # print(res)\n",
        "  if res<threshold:\n",
        "    return True\n",
        "  else:\n",
        "    return False"
      ],
      "execution_count": null,
      "outputs": []
    },
    {
      "cell_type": "code",
      "metadata": {
        "id": "tXmw75al3y5m"
      },
      "source": [
        "def draw_circles(image, threshold):\n",
        "  output = get_connected_components(image)\n",
        "  stats = output[2]\n",
        "  labels = output[1]\n",
        "  centroids = output[3]\n",
        "  img_bgr = cv2.cvtColor(image, cv2.COLOR_GRAY2BGR)\n",
        "  count=0\n",
        "  for i in range(len(stats)):\n",
        "    if i == 0:\n",
        "      continue\n",
        "    # cv2_imshow(image[stats[i, 1]:stats[i, 1]+stats[i, 3], stats[i, 0]:stats[i, 0]+stats[i, 2]])\n",
        "    # cv2_imshow(image[stats[i, 0]:stats[i, 0]+stats[i, 2], stats[i, 1]:stats[i, 1]+stats[i, 3]])\n",
        "\n",
        "    vvv = is_circle(image[stats[i, 1]:stats[i, 1]+stats[i, 3], stats[i, 0]:stats[i, 0]+stats[i, 2]], threshold)\n",
        "    if vvv:\n",
        "      img_bgr = cv2.circle(img_bgr, (int(centroids[i, 0]), int(centroids[i,1])), max(int(stats[i, 2]/2), int(stats[i, 3]/2)), (50,128,50), 2)\n",
        "      count +=1\n",
        "  return img_bgr, count"
      ],
      "execution_count": null,
      "outputs": []
    },
    {
      "cell_type": "code",
      "metadata": {
        "id": "rYt6txUaeL3D",
        "colab": {
          "base_uri": "https://localhost:8080/",
          "height": 233
        },
        "outputId": "ff6e36b5-8d05-4f0e-c26b-3394faf0393c"
      },
      "source": [
        "# main\n",
        "\n",
        "\n",
        "\n",
        "src = cv2.imread('random_forest_result.bmp', 0)\n",
        "input = src.copy()\n",
        "contour, _ = cv2.findContours(src,cv2.RETR_CCOMP,cv2.CHAIN_APPROX_SIMPLE)\n",
        "for cnt in contour:\n",
        "  cv2.drawContours(src,[cnt],0,255,-1)\n",
        "cv2_imshow(src)\n",
        "output_image = np.zeros(src.shape)\n",
        "\n",
        "aa = thresh_hold_area(10, 11, src)\n",
        "\n",
        "# cv2_imshow(aa)\n",
        "# print(aa)\n",
        "# output_image = cv2.bitwise_or(output_image, aa/255)\n",
        "output_image += aa\n",
        "\n",
        "# output_image +=  aa\n",
        "\n",
        "for i in range(12,1000):\n",
        "  bb = thresh_hold_area(i, i+1, src)\n",
        "\n",
        "  bb, imag = split_components(bb)\n",
        "  # output_image = cv2.bitwise_or(output_image, imag/255)\n",
        "  output_image += imag\n",
        "# cv2_imshow(output_image)\n",
        "# cv2_imshow(output_image)\n",
        "# print(bb)"
      ],
      "execution_count": null,
      "outputs": [
        {
          "output_type": "display_data",
          "data": {
            "image/png": "[encoded data removed]",
            "text/plain": [
              "<PIL.Image.Image image mode=L size=525x216 at 0x7F43F67F1110>"
            ]
          },
          "metadata": {
            "tags": []
          }
        }
      ]
    },
    {
      "cell_type": "code",
      "metadata": {
        "colab": {
          "base_uri": "https://localhost:8080/",
          "height": 482
        },
        "id": "xHXOrojmXPw7",
        "outputId": "ba09cc96-b455-4092-b7b8-184ac5a1fb73"
      },
      "source": [
        "\n",
        "src = cv2.imread('random_forest_result.bmp', 0)\n",
        "input = src.copy()\n",
        "contour, _ = cv2.findContours(src,cv2.RETR_CCOMP,cv2.CHAIN_APPROX_SIMPLE)\n",
        "for cnt in contour:\n",
        "  cv2.drawContours(src,[cnt],0,255,-1)\n",
        "# cv2_imshow(src)\n",
        "# output_image = np.zeros(src.shape)\n",
        "# cv2_imshow(output_image)\n",
        "edges = cv2.Canny(src,100,200)\n",
        "cimg = cv2.cvtColor(edges,cv2.COLOR_GRAY2BGR)\n",
        "cv2_imshow(edges)\n",
        "\n",
        "# circles = cv2.HoughCircles(edges,cv2.HOUGH_GRADIENT,10,50,\n",
        "                            # param1=50,param2=30,minRadius=0,maxRadius=0)\n",
        "\n",
        "circles = cv2.HoughCircles(edges, cv2.HOUGH_GRADIENT, 1, minDist=10,\n",
        "                    param1=20, param2=10, minRadius=0, maxRadius=12)\n",
        "circles = np.uint16(np.around(circles))\n",
        "count = 0\n",
        "\n",
        "true_circles = []\n",
        "true_circles.append(circles[0][0])\n",
        "\n",
        "for i in range(circles[0].shape[0]):\n",
        "  flag = True\n",
        "  for j in range(circles[0].shape[0]):\n",
        "    if i == j:\n",
        "      continue\n",
        "    # print(i[0] , j[0], i[1] , j[1])\n",
        "    result= ((((circles[0, i, 0] - circles[0, j, 0] )**2) + ((circles[0, i, 1] - circles[0, j, 1] )**2) )**0.5)\n",
        "    # print(result)\n",
        "    if result < 10:\n",
        "      flag=False\n",
        "    \n",
        "    \n",
        "  if flag:\n",
        "    true_circles.append(circles[0, i])\n",
        "      # break\n",
        "\n",
        "\n",
        "count =0\n",
        "for i in true_circles:\n",
        "    # draw the outer circle\n",
        "    cv2.circle(cimg,(i[0],i[1]),i[2],(0,255,0),1)\n",
        "    # draw the center of the circle\n",
        "    # cv2.circle(cimg,(i[0],i[1]),2,(0,0,255),3)\n",
        "    count += 1\n",
        "cv2_imshow(cimg)\n",
        "print(count)\n",
        "# cv.waitKey(0)\n",
        "# cv.destroyAllWindows()"
      ],
      "execution_count": null,
      "outputs": [
        {
          "output_type": "display_data",
          "data": {
            "image/png": "[encoded data removed]",
            "text/plain": [
              "<PIL.Image.Image image mode=L size=525x216 at 0x7EFD62EC6A90>"
            ]
          },
          "metadata": {
            "tags": []
          }
        },
        {
          "output_type": "stream",
          "text": [
            "/usr/local/lib/python3.7/dist-packages/ipykernel_launcher.py:31: RuntimeWarning: overflow encountered in ushort_scalars\n"
          ],
          "name": "stderr"
        },
        {
          "output_type": "display_data",
          "data": {
            "image/png": "[encoded data removed]",
            "text/plain": [
              "<PIL.Image.Image image mode=RGB size=525x216 at 0x7EFD62D9DE90>"
            ]
          },
          "metadata": {
            "tags": []
          }
        },
        {
          "output_type": "stream",
          "text": [
            "163\n"
          ],
          "name": "stdout"
        }
      ]
    },
    {
      "cell_type": "code",
      "metadata": {
        "colab": {
          "base_uri": "https://localhost:8080/"
        },
        "id": "OZ2PsTiJfPW_",
        "outputId": "f9538908-8e66-4f87-bad9-1dc4121a49a2"
      },
      "source": [
        "circles[0][0]\n",
        "# true_circles[0][0]"
      ],
      "execution_count": null,
      "outputs": [
        {
          "output_type": "execute_result",
          "data": {
            "text/plain": [
              "array([196,  12,  10], dtype=uint16)"
            ]
          },
          "metadata": {
            "tags": []
          },
          "execution_count": 79
        }
      ]
    },
    {
      "cell_type": "code",
      "metadata": {
        "colab": {
          "base_uri": "https://localhost:8080/",
          "height": 229
        },
        "id": "uySph6Ttj78E",
        "outputId": "f9361f19-05e2-4918-8dbb-74716cf1abad"
      },
      "source": [
        "outttt = get_connected_components(output_image.astype(np.uint8))\n",
        "# output_image.shape\n",
        "output_image = output_image.astype(np.uint8)\n",
        "\n",
        "abcd = thresh_hold_area(10, 1000, output_image)\n",
        "\n",
        "# cv2_imshow(output_image)\n",
        "threshold = 0.15\n",
        "final_image, count = draw_circles(abcd, threshold)\n",
        "cv2_imshow(input)\n",
        "print()\n",
        "cv2_imshow(final_image)\n",
        "print('threshold: ' + str(threshold))\n",
        "print(\"count: \" + str(count))"
      ],
      "execution_count": null,
      "outputs": [
        {
          "output_type": "error",
          "ename": "NameError",
          "evalue": "ignored",
          "traceback": [
            "\u001b[0;31m---------------------------------------------------------------------------\u001b[0m",
            "\u001b[0;31mNameError\u001b[0m                                 Traceback (most recent call last)",
            "\u001b[0;32m<ipython-input-2-93e837c04def>\u001b[0m in \u001b[0;36m<module>\u001b[0;34m()\u001b[0m\n\u001b[0;32m----> 1\u001b[0;31m \u001b[0moutttt\u001b[0m \u001b[0;34m=\u001b[0m \u001b[0mget_connected_components\u001b[0m\u001b[0;34m(\u001b[0m\u001b[0moutput_image\u001b[0m\u001b[0;34m.\u001b[0m\u001b[0mastype\u001b[0m\u001b[0;34m(\u001b[0m\u001b[0mnp\u001b[0m\u001b[0;34m.\u001b[0m\u001b[0muint8\u001b[0m\u001b[0;34m)\u001b[0m\u001b[0;34m)\u001b[0m\u001b[0;34m\u001b[0m\u001b[0;34m\u001b[0m\u001b[0m\n\u001b[0m\u001b[1;32m      2\u001b[0m \u001b[0;31m# output_image.shape\u001b[0m\u001b[0;34m\u001b[0m\u001b[0;34m\u001b[0m\u001b[0;34m\u001b[0m\u001b[0m\n\u001b[1;32m      3\u001b[0m \u001b[0moutput_image\u001b[0m \u001b[0;34m=\u001b[0m \u001b[0moutput_image\u001b[0m\u001b[0;34m.\u001b[0m\u001b[0mastype\u001b[0m\u001b[0;34m(\u001b[0m\u001b[0mnp\u001b[0m\u001b[0;34m.\u001b[0m\u001b[0muint8\u001b[0m\u001b[0;34m)\u001b[0m\u001b[0;34m\u001b[0m\u001b[0;34m\u001b[0m\u001b[0m\n\u001b[1;32m      4\u001b[0m \u001b[0;34m\u001b[0m\u001b[0m\n\u001b[1;32m      5\u001b[0m \u001b[0mabcd\u001b[0m \u001b[0;34m=\u001b[0m \u001b[0mthresh_hold_area\u001b[0m\u001b[0;34m(\u001b[0m\u001b[0;36m10\u001b[0m\u001b[0;34m,\u001b[0m \u001b[0;36m1000\u001b[0m\u001b[0;34m,\u001b[0m \u001b[0moutput_image\u001b[0m\u001b[0;34m)\u001b[0m\u001b[0;34m\u001b[0m\u001b[0;34m\u001b[0m\u001b[0m\n",
            "\u001b[0;31mNameError\u001b[0m: name 'get_connected_components' is not defined"
          ]
        }
      ]
    },
    {
      "cell_type": "code",
      "metadata": {
        "colab": {
          "base_uri": "https://localhost:8080/",
          "height": 233
        },
        "id": "SsvgKUrPofck",
        "outputId": "1cb0ebdc-4cb4-4e48-e257-b71eb485a6ca"
      },
      "source": [
        ""
      ],
      "execution_count": null,
      "outputs": [
        {
          "output_type": "display_data",
          "data": {
            "image/png": "[encoded data removed]",
            "text/plain": [
              "<PIL.Image.Image image mode=L size=525x216 at 0x7F43F8009850>"
            ]
          },
          "metadata": {
            "tags": []
          }
        }
      ]
    },
    {
      "cell_type": "code",
      "metadata": {
        "colab": {
          "base_uri": "https://localhost:8080/",
          "height": 89
        },
        "id": "cN-9uEh6CD9f",
        "outputId": "05df2e7b-3f4f-4335-b77f-d4f1b142d45a"
      },
      "source": [
        "src = cv2.imread('random_forest_result.bmp', 0)\n",
        "aa = thresh_hold_area(100, 101, src)\n"
      ],
      "execution_count": null,
      "outputs": [
        {
          "output_type": "display_data",
          "data": {
            "image/png": "[encoded data removed]",
            "text/plain": [
              "<PIL.Image.Image image mode=L size=25x55 at 0x7F43F847CE90>"
            ]
          },
          "metadata": {
            "tags": []
          }
        },
        {
          "output_type": "execute_result",
          "data": {
            "text/plain": [
              "(216, 525)"
            ]
          },
          "metadata": {
            "tags": []
          },
          "execution_count": 21
        }
      ]
    },
    {
      "cell_type": "code",
      "metadata": {
        "colab": {
          "base_uri": "https://localhost:8080/",
          "height": 34
        },
        "id": "s8rfy-w7CNjt",
        "outputId": "653cf0b5-0d56-4f5f-9250-261daf26d5d7"
      },
      "source": [
        "image = aa[162:168, 68:78]\n",
        "cv2_imshow(image)\n",
        "# aa.shape"
      ],
      "execution_count": null,
      "outputs": [
        {
          "output_type": "display_data",
          "data": {
            "image/png": "[encoded data removed]",
            "text/plain": [
              "<PIL.Image.Image image mode=L size=10x6 at 0x7F43F8135F90>"
            ]
          },
          "metadata": {
            "tags": []
          }
        }
      ]
    },
    {
      "cell_type": "code",
      "metadata": {
        "id": "zRre3JW_C5LS"
      },
      "source": [
        ""
      ],
      "execution_count": null,
      "outputs": []
    },
    {
      "cell_type": "code",
      "metadata": {
        "colab": {
          "base_uri": "https://localhost:8080/"
        },
        "id": "3uOJ39HfUbJi",
        "outputId": "38fc3005-7c66-47ec-a4fa-7ebe99eaee29"
      },
      "source": [
        "is_circle(image, 0.1)"
      ],
      "execution_count": null,
      "outputs": [
        {
          "output_type": "stream",
          "text": [
            "0.2833333333333333\n"
          ],
          "name": "stdout"
        },
        {
          "output_type": "execute_result",
          "data": {
            "text/plain": [
              "False"
            ]
          },
          "metadata": {
            "tags": []
          },
          "execution_count": 176
        }
      ]
    },
    {
      "cell_type": "code",
      "metadata": {
        "colab": {
          "base_uri": "https://localhost:8080/",
          "height": 34
        },
        "id": "e6NKMUf2DR-a",
        "outputId": "1742ec52-1b03-42c8-aa2c-d8243231810e"
      },
      "source": [
        "|(h, w) = image.shape[:2]\n",
        "(cX, cY) = (w // 2, h // 2)\n",
        "M = cv2.getRotationMatrix2D((cX, cY), 45, 1.0)\n",
        "rotated = cv2.warpAffine(image, M, (w, h))\n",
        "cv2_imshow(rotated)\n"
      ],
      "execution_count": null,
      "outputs": [
        {
          "output_type": "display_data",
          "data": {
            "image/png": "[encoded data removed]",
            "text/plain": [
              "<PIL.Image.Image image mode=L size=10x6 at 0x7F43F81242D0>"
            ]
          },
          "metadata": {
            "tags": []
          }
        }
      ]
    },
    {
      "cell_type": "code",
      "metadata": {
        "colab": {
          "base_uri": "https://localhost:8080/"
        },
        "id": "fEOpemcrMyeO",
        "outputId": "365cf8a1-85cb-4fed-c694-bc2c547abd63"
      },
      "source": [
        "thresh = 127\n",
        "rotated_binary = cv2.threshold(rotated, thresh, 255, cv2.THRESH_BINARY)[1]\n",
        "rotated_binary"
      ],
      "execution_count": null,
      "outputs": [
        {
          "output_type": "execute_result",
          "data": {
            "text/plain": [
              "array([[  0,   0,   0,   0, 255, 255, 255, 255, 255,   0],\n",
              "       [  0,   0,   0, 255, 255, 255, 255, 255, 255, 255],\n",
              "       [  0,   0, 255, 255, 255, 255, 255, 255, 255, 255],\n",
              "       [  0, 255, 255, 255, 255, 255, 255, 255, 255,   0],\n",
              "       [255, 255, 255, 255, 255, 255, 255, 255,   0,   0],\n",
              "       [255, 255, 255, 255, 255, 255, 255,   0,   0,   0]], dtype=uint8)"
            ]
          },
          "metadata": {
            "tags": []
          },
          "execution_count": 158
        }
      ]
    },
    {
      "cell_type": "code",
      "metadata": {
        "id": "0XxAiNelMB0_"
      },
      "source": [
        "c1 = get_connected_components( image)\n",
        "c2 = get_connected_components(rotated_binary)"
      ],
      "execution_count": null,
      "outputs": []
    },
    {
      "cell_type": "code",
      "metadata": {
        "colab": {
          "base_uri": "https://localhost:8080/"
        },
        "id": "mhhPndrVMTfe",
        "outputId": "f1b16969-daa6-48f5-a159-8536d0283a72"
      },
      "source": [
        "c1[2][1,4]/(c1[2][1,2] * c1[2][1,3]) "
      ],
      "execution_count": null,
      "outputs": [
        {
          "output_type": "execute_result",
          "data": {
            "text/plain": [
              "1.0"
            ]
          },
          "metadata": {
            "tags": []
          },
          "execution_count": 160
        }
      ]
    },
    {
      "cell_type": "code",
      "metadata": {
        "colab": {
          "base_uri": "https://localhost:8080/"
        },
        "id": "7uw9ewjEMGMi",
        "outputId": "8e2a5b96-97bd-4991-b149-e6f44df81256"
      },
      "source": [
        "c2[2][1,4]/(c2[2][1,2] * c2[2][1,3]) "
      ],
      "execution_count": null,
      "outputs": [
        {
          "output_type": "execute_result",
          "data": {
            "text/plain": [
              "0.7166666666666667"
            ]
          },
          "metadata": {
            "tags": []
          },
          "execution_count": 161
        }
      ]
    },
    {
      "cell_type": "code",
      "metadata": {
        "colab": {
          "base_uri": "https://localhost:8080/"
        },
        "id": "0U3-pe3vS8Pe",
        "outputId": "204e40ca-867e-409c-9900-dc0cb949313d"
      },
      "source": [
        "res = c2[2][1,4]/(c2[2][1,2] * c2[2][1,3]) - c1[2][1,4]/(c1[2][1,2] * c1[2][1,3])\n",
        "if res<0:\n",
        "  res *= -1\n",
        "res"
      ],
      "execution_count": null,
      "outputs": [
        {
          "output_type": "execute_result",
          "data": {
            "text/plain": [
              "0.2833333333333333"
            ]
          },
          "metadata": {
            "tags": []
          },
          "execution_count": 164
        }
      ]
    },
    {
      "cell_type": "code",
      "metadata": {
        "colab": {
          "base_uri": "https://localhost:8080/",
          "height": 34
        },
        "id": "WVAtv922EVFk",
        "outputId": "9839a615-176d-4d1e-ac2d-5d594fa8e43c"
      },
      "source": [
        "cv2_imshow(image - rotated)"
      ],
      "execution_count": null,
      "outputs": [
        {
          "output_type": "display_data",
          "data": {
            "image/png": "[encoded data removed]",
            "text/plain": [
              "<PIL.Image.Image image mode=L size=13x10 at 0x7F43F845CF10>"
            ]
          },
          "metadata": {
            "tags": []
          }
        }
      ]
    },
    {
      "cell_type": "code",
      "metadata": {
        "colab": {
          "base_uri": "https://localhost:8080/"
        },
        "id": "onX6rzLIGkW0",
        "outputId": "a4d24655-9667-49f4-9055-bc03220f7e9e"
      },
      "source": [
        "image"
      ],
      "execution_count": null,
      "outputs": [
        {
          "output_type": "execute_result",
          "data": {
            "text/plain": [
              "array([[255, 255, 255, 255, 255, 255, 255, 255, 255, 255],\n",
              "       [255, 255, 255, 255, 255, 255, 255, 255, 255, 255],\n",
              "       [255, 255, 255, 255, 255, 255, 255, 255, 255, 255],\n",
              "       [255, 255, 255, 255, 255, 255, 255, 255, 255, 255],\n",
              "       [255, 255, 255, 255, 255, 255, 255, 255, 255, 255],\n",
              "       [255, 255, 255, 255, 255, 255, 255, 255, 255, 255]], dtype=uint8)"
            ]
          },
          "metadata": {
            "tags": []
          },
          "execution_count": 87
        }
      ]
    },
    {
      "cell_type": "code",
      "metadata": {
        "colab": {
          "base_uri": "https://localhost:8080/"
        },
        "id": "NF_dS-_rFvaT",
        "outputId": "552128f8-af5a-47b3-e21a-7c7484b8c0c0"
      },
      "source": [
        "# rotated\n",
        "thresh = 127\n",
        "rotated_binary = cv2.threshold(rotated, thresh, 255, cv2.THRESH_BINARY)[1]\n",
        "rotated_binary"
      ],
      "execution_count": null,
      "outputs": [
        {
          "output_type": "execute_result",
          "data": {
            "text/plain": [
              "array([[  0,   0,   0,   0, 255, 255, 255, 255, 255,   0],\n",
              "       [  0,   0,   0, 255, 255, 255, 255, 255, 255, 255],\n",
              "       [  0,   0, 255, 255, 255, 255, 255, 255, 255, 255],\n",
              "       [  0, 255, 255, 255, 255, 255, 255, 255, 255,   0],\n",
              "       [255, 255, 255, 255, 255, 255, 255, 255,   0,   0],\n",
              "       [255, 255, 255, 255, 255, 255, 255,   0,   0,   0]], dtype=uint8)"
            ]
          },
          "metadata": {
            "tags": []
          },
          "execution_count": 88
        }
      ]
    },
    {
      "cell_type": "code",
      "metadata": {
        "colab": {
          "base_uri": "https://localhost:8080/"
        },
        "id": "mKcJViL7Elqh",
        "outputId": "f49268bd-e892-4fdc-8fd1-eddd34ea9c87"
      },
      "source": [
        "\n",
        "result = cv2.bitwise_xor(image, rotated_binary)\n",
        "\n",
        "# result = image - rotated_binary\n",
        "result"
      ],
      "execution_count": null,
      "outputs": [
        {
          "output_type": "execute_result",
          "data": {
            "text/plain": [
              "array([[255, 255, 255, 255,   0,   0,   0,   0,   0, 255],\n",
              "       [255, 255, 255,   0,   0,   0,   0,   0,   0,   0],\n",
              "       [255, 255,   0,   0,   0,   0,   0,   0,   0,   0],\n",
              "       [255,   0,   0,   0,   0,   0,   0,   0,   0, 255],\n",
              "       [  0,   0,   0,   0,   0,   0,   0,   0, 255, 255],\n",
              "       [  0,   0,   0,   0,   0,   0,   0, 255, 255, 255]], dtype=uint8)"
            ]
          },
          "metadata": {
            "tags": []
          },
          "execution_count": 89
        }
      ]
    },
    {
      "cell_type": "code",
      "metadata": {
        "colab": {
          "base_uri": "https://localhost:8080/",
          "height": 34
        },
        "id": "eTaYsTAiFbfD",
        "outputId": "0f5f227e-b165-4ca4-ed1a-89c09d38e849"
      },
      "source": [
        "cv2_imshow(result)"
      ],
      "execution_count": null,
      "outputs": [
        {
          "output_type": "display_data",
          "data": {
            "image/png": "[encoded data removed]",
            "text/plain": [
              "<PIL.Image.Image image mode=L size=10x6 at 0x7F43F81ACF10>"
            ]
          },
          "metadata": {
            "tags": []
          }
        }
      ]
    },
    {
      "cell_type": "code",
      "metadata": {
        "colab": {
          "base_uri": "https://localhost:8080/"
        },
        "id": "OGi-o0buE2p6",
        "outputId": "cf39f54c-8d77-44d6-b8ca-070d86200e62"
      },
      "source": [
        "np.sum(result)/(result.shape[0]*result.shape[1])"
      ],
      "execution_count": null,
      "outputs": [
        {
          "output_type": "execute_result",
          "data": {
            "text/plain": [
              "72.25"
            ]
          },
          "metadata": {
            "tags": []
          },
          "execution_count": 91
        }
      ]
    },
    {
      "cell_type": "code",
      "metadata": {
        "id": "sgqcY66LFWrd"
      },
      "source": [
        ""
      ],
      "execution_count": null,
      "outputs": []
    }
  ]
}